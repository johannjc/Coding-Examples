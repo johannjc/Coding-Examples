{
  "nbformat": 4,
  "nbformat_minor": 0,
  "metadata": {
    "colab": {
      "provenance": [],
      "authorship_tag": "ABX9TyMKvCkihjUXkfBSQUMwrFYe",
      "include_colab_link": true
    },
    "kernelspec": {
      "name": "python3",
      "display_name": "Python 3"
    },
    "language_info": {
      "name": "python"
    }
  },
  "cells": [
    {
      "cell_type": "markdown",
      "metadata": {
        "id": "view-in-github",
        "colab_type": "text"
      },
      "source": [
        "<a href=\"https://colab.research.google.com/github/johannjc/Coding-Examples/blob/master/CardDistribution.ipynb\" target=\"_parent\"><img src=\"https://colab.research.google.com/assets/colab-badge.svg\" alt=\"Open In Colab\"/></a>"
      ]
    },
    {
      "cell_type": "code",
      "execution_count": 133,
      "metadata": {
        "id": "w157Se7WDBKx"
      },
      "outputs": [],
      "source": [
        "from random import shuffle\n",
        "import numpy as np\n",
        "spades=0\n",
        "hearts=1\n",
        "diamonds=2\n",
        "clubs=3\n",
        "myself=0\n",
        "partner=2"
      ]
    },
    {
      "cell_type": "code",
      "source": [
        "cards=np.array(range(52))\n",
        "pts=np.array([0,0,0,0,0,0,0,0,0,1,2,3,4])\n",
        "distpts=np.array([3,2,1,0,0,0,0,0,0,0,0,0,0,0])"
      ],
      "metadata": {
        "id": "gWBCaItGGL_k"
      },
      "execution_count": 121,
      "outputs": []
    },
    {
      "cell_type": "code",
      "source": [
        "ndeals=10000\n",
        "count=0\n",
        "for i in range(ndeals):\n",
        "  shuffle(cards)\n",
        "  hands=np.reshape(cards,[4,13])\n",
        "  suits=hands // 13\n",
        "  ranks=hands % 13\n",
        "  dist=np.zeros([4,4],dtype=int)\n",
        "  for j in range(4):\n",
        "    (s,c)=np.unique(suits[j],return_counts=True)\n",
        "    dist[j,s]=c\n",
        "  hcp=pts[ranks].sum(axis=1)\n",
        "  dps=distpts[dist].sum(axis=1)\n",
        "  tps=hcp+dps\n",
        "  if (dist[myself,spades] >= 5 and dist[partner,spades] >= 4 or  \\\n",
        "         dist[myself,hearts] >= 5 and dist[partner,hearts] >= 4) and  \\\n",
        "         (tps[myself] >= 13 and tps[partner] >= 9):\n",
        "    count=count+1\n",
        "print(count/ndeals)"
      ],
      "metadata": {
        "colab": {
          "base_uri": "https://localhost:8080/"
        },
        "id": "ZdHa5Wg-GaGv",
        "outputId": "17f22030-e2ab-4e8d-c37a-dd666943a688"
      },
      "execution_count": 143,
      "outputs": [
        {
          "output_type": "stream",
          "name": "stdout",
          "text": [
            "0.0208\n"
          ]
        }
      ]
    }
  ]
}