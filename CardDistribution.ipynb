{
  "nbformat": 4,
  "nbformat_minor": 0,
  "metadata": {
    "colab": {
      "provenance": [],
      "authorship_tag": "ABX9TyOyciGxGeCTYwBmxj7EPe0D",
      "include_colab_link": true
    },
    "kernelspec": {
      "name": "python3",
      "display_name": "Python 3"
    },
    "language_info": {
      "name": "python"
    }
  },
  "cells": [
    {
      "cell_type": "markdown",
      "metadata": {
        "id": "view-in-github",
        "colab_type": "text"
      },
      "source": [
        "<a href=\"https://colab.research.google.com/github/johannjc/Coding-Examples/blob/master/CardDistribution.ipynb\" target=\"_parent\"><img src=\"https://colab.research.google.com/assets/colab-badge.svg\" alt=\"Open In Colab\"/></a>"
      ]
    },
    {
      "cell_type": "code",
      "execution_count": 133,
      "metadata": {
        "id": "w157Se7WDBKx"
      },
      "outputs": [],
      "source": [
        "from random import shuffle\n",
        "import numpy as np\n",
        "# Define some useful constants\n",
        "spades=0\n",
        "hearts=1\n",
        "diamonds=2\n",
        "clubs=3\n",
        "myself=0\n",
        "partner=2"
      ]
    },
    {
      "cell_type": "code",
      "source": [
        "cards=np.array(range(52)) # Create an array of cards (numbered 0,51)\n",
        "# 0 is 2 of spades\n",
        "# 1 is 3 of spades\n",
        "# ...\n",
        "# 12 is Ace of spades\n",
        "# 13 is 2 of hearts\n",
        "# 14 is 3 of hearts\n",
        "# ...\n",
        "# 51 is Ace of clubs\n",
        "pts=np.array([0,0,0,0,0,0,0,0,0,1,2,3,4]) # Points for each cards rank\n",
        "distpts=np.array([3,2,1,0,0,0,0,0,0,0,0,0,0,0]) # Points for distributions (void = 3, singleton = 2, doubleton = 1)"
      ],
      "metadata": {
        "id": "gWBCaItGGL_k"
      },
      "execution_count": 121,
      "outputs": []
    },
    {
      "cell_type": "code",
      "source": [
        "ndeals=10000 #Number of deals to test\n",
        "count=0 #Initialize counter\n",
        "for i in range(ndeals): #Loop over deals\n",
        "  shuffle(cards) #Reorder 52 cards\n",
        "  hands=np.reshape(cards,[4,13]) #Split the cards into 4 hands\n",
        "  suits=hands // 13 #Determine suit for each card\n",
        "  ranks=hands % 13  #Determine rank for each card\n",
        "  dist=np.zeros([4,4],dtype=int)\n",
        "  for j in range(4): #Loop through hands to get suit distribution\n",
        "    (s,c)=np.unique(suits[j],return_counts=True)\n",
        "    dist[j,s]=c\n",
        "  hcp=pts[ranks].sum(axis=1) # Determine high card points\n",
        "  dps=distpts[dist].sum(axis=1) #Determine distributional points\n",
        "  tps=hcp+dps #Total points\n",
        "\n",
        "  # Now we have the distributions and points for all hands - we can use whatever logic\n",
        "  # we want to test\n",
        "  if (dist[myself,spades] >= 5 and dist[partner,spades] >= 4 or  \\\n",
        "         dist[myself,hearts] >= 5 and dist[partner,hearts] >= 4) and  \\\n",
        "         (tps[myself] >= 13 and tps[partner] >= 9):\n",
        "    count=count+1\n",
        "\n",
        "# Print fraction of hands that satisfied the requirements\n",
        "print(count/ndeals)"
      ],
      "metadata": {
        "colab": {
          "base_uri": "https://localhost:8080/"
        },
        "id": "ZdHa5Wg-GaGv",
        "outputId": "a82612e1-367b-4dba-912d-31ca8d5ddaf3"
      },
      "execution_count": 145,
      "outputs": [
        {
          "output_type": "stream",
          "name": "stdout",
          "text": [
            "0.0231\n"
          ]
        }
      ]
    }
  ]
}